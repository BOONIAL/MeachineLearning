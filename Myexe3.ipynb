{
 "nbformat": 4,
 "nbformat_minor": 2,
 "metadata": {
  "language_info": {
   "name": "python",
   "codemirror_mode": {
    "name": "ipython",
    "version": 3
   },
   "version": "3.8.1-final"
  },
  "orig_nbformat": 2,
  "file_extension": ".py",
  "mimetype": "text/x-python",
  "name": "python",
  "npconvert_exporter": "python",
  "pygments_lexer": "ipython3",
  "version": 3,
  "kernelspec": {
   "name": "python38164bita05f9304dc4e41f382ae60dfddf9434f",
   "display_name": "Python 3.8.1 64-bit"
  }
 },
 "cells": [
  {
   "cell_type": "code",
   "execution_count": 72,
   "metadata": {},
   "outputs": [],
   "source": [
    "import numpy as np\n",
    "import pandas as pd\n",
    "import matplotlib.pyplot as plt\n",
    "from scipy.io import loadmat"
   ]
  },
  {
   "cell_type": "code",
   "execution_count": 73,
   "metadata": {},
   "outputs": [
    {
     "output_type": "execute_result",
     "data": {
      "text/plain": "{'__header__': b'MATLAB 5.0 MAT-file, Platform: GLNXA64, Created on: Sun Oct 16 13:09:09 2011',\n '__version__': '1.0',\n '__globals__': [],\n 'X': array([[0., 0., 0., ..., 0., 0., 0.],\n        [0., 0., 0., ..., 0., 0., 0.],\n        [0., 0., 0., ..., 0., 0., 0.],\n        ...,\n        [0., 0., 0., ..., 0., 0., 0.],\n        [0., 0., 0., ..., 0., 0., 0.],\n        [0., 0., 0., ..., 0., 0., 0.]]),\n 'y': array([[10],\n        [10],\n        [10],\n        ...,\n        [ 9],\n        [ 9],\n        [ 9]], dtype=uint8)}"
     },
     "metadata": {},
     "execution_count": 73
    }
   ],
   "source": [
    "data = loadmat('ex3data1.mat')\n",
    "data"
   ]
  },
  {
   "cell_type": "code",
   "execution_count": 74,
   "metadata": {},
   "outputs": [
    {
     "output_type": "execute_result",
     "data": {
      "text/plain": "((5000, 400), (5000, 1))"
     },
     "metadata": {},
     "execution_count": 74
    }
   ],
   "source": [
    "data['X'].shape, data['y'].shape"
   ]
  },
  {
   "cell_type": "code",
   "execution_count": 75,
   "metadata": {},
   "outputs": [],
   "source": [
    "def sigmoid(z):\n",
    "    return 1/(1+np.exp(-z))"
   ]
  },
  {
   "cell_type": "code",
   "execution_count": 76,
   "metadata": {},
   "outputs": [],
   "source": [
    "def cost(theta, X, y, learningRate):\n",
    "    theta = np.matrix(theta)\n",
    "    X = np.matrix(X)\n",
    "    y = np.matrix(y)\n",
    "    first = np.multiply(-y, np.log(sigmoid(X * theta.T)))\n",
    "    second = np.multiply((1 - y), np.log(1 - sigmoid(X * theta.T)))\n",
    "    reg = (learningRate / (2 * len(X))) * np.sum(np.power(theta[:,1:theta.shape[1]], 2))#正则化\n",
    "    return np.sum(first - second) / len(X) + reg"
   ]
  },
  {
   "cell_type": "code",
   "execution_count": 77,
   "metadata": {},
   "outputs": [],
   "source": [
    "#向量化梯度函数\n",
    "def gradient(theta, X, y, learningRate):\n",
    "    theta = np.matrix(theta)\n",
    "    X = np.matrix(X)\n",
    "    y = np.matrix(y)\n",
    "    \n",
    "    parameters = int(theta.ravel().shape[1])\n",
    "    error = sigmoid(X * theta.T) - y\n",
    "    \n",
    "    grad = ((X.T * error) / len(X)).T + ((learningRate / len(X)) * theta)\n",
    "    \n",
    "    # intercept gradient is not regularized\n",
    "    grad[0, 0] = np.sum(np.multiply(error, X[:,0])) / len(X)\n",
    "    \n",
    "    return np.array(grad).ravel()"
   ]
  },
  {
   "cell_type": "code",
   "execution_count": 78,
   "metadata": {},
   "outputs": [],
   "source": [
    "#一对多分类器\n",
    "from scipy.optimize import minimize\n",
    "\n",
    "def one_vs_all(X,y,num_labels,learning_rate):\n",
    "    rows=X.shape[0]\n",
    "    params=X.shape[1]\n",
    "\n",
    "    all_theta=np.zeros((num_labels,params+1))#第i行代表数字i的分类器\n",
    "    X=np.insert(X,0,values=np.ones(rows),axis=1)#axis:插入的维度。插入ones\n",
    "\n",
    "    for i in range(1,num_labels+1):\n",
    "        theta=np.zeros(params+1)#初始化猜测值\n",
    "        y_i=np.array([1 if label==i else 0 for label in y])\n",
    "        y_i=np.reshape(y_i,(rows,1))#对于i的一对一分类\n",
    "\n",
    "        fmin=minimize(fun=cost,x0=theta,args=(X,y_i,learning_rate),method='TNC',jac=gradient)#最小化目标函数\n",
    "        all_theta[i-1:]=fmin.x\n",
    "    return all_theta"
   ]
  },
  {
   "cell_type": "code",
   "execution_count": 79,
   "metadata": {},
   "outputs": [
    {
     "output_type": "execute_result",
     "data": {
      "text/plain": "array([ 1,  2,  3,  4,  5,  6,  7,  8,  9, 10], dtype=uint8)"
     },
     "metadata": {},
     "execution_count": 79
    }
   ],
   "source": [
    "np.unique(data['y'])#看下有几类标签"
   ]
  },
  {
   "cell_type": "code",
   "execution_count": 80,
   "metadata": {},
   "outputs": [
    {
     "output_type": "execute_result",
     "data": {
      "text/plain": "array([[-2.38329625e+00,  0.00000000e+00,  0.00000000e+00, ...,\n         1.30469860e-03, -8.20996452e-10,  0.00000000e+00],\n       [-3.18487445e+00,  0.00000000e+00,  0.00000000e+00, ...,\n         4.46292788e-03, -5.08767264e-04,  0.00000000e+00],\n       [-4.79972803e+00,  0.00000000e+00,  0.00000000e+00, ...,\n        -2.86921319e-05, -2.47368343e-07,  0.00000000e+00],\n       ...,\n       [-7.98793179e+00,  0.00000000e+00,  0.00000000e+00, ...,\n        -8.95180785e-05,  7.21851354e-06,  0.00000000e+00],\n       [-4.57166512e+00,  0.00000000e+00,  0.00000000e+00, ...,\n        -1.33590481e-03,  9.99352426e-05,  0.00000000e+00],\n       [-5.40436492e+00,  0.00000000e+00,  0.00000000e+00, ...,\n        -1.16595363e-04,  7.88288067e-06,  0.00000000e+00]])"
     },
     "metadata": {},
     "execution_count": 80
    }
   ],
   "source": [
    "all_theta=one_vs_all(data['X'],data['y'],10,1)\n",
    "all_theta"
   ]
  },
  {
   "cell_type": "code",
   "execution_count": 83,
   "metadata": {},
   "outputs": [],
   "source": [
    "def predict_all(X,all_theta):\n",
    "    rows=X.shape[0]\n",
    "    params=X.shape[1]\n",
    "    num_labels=all_theta.shape[0]\n",
    "\n",
    "    X=np.insert(X,0,np.ones(rows),axis=1)\n",
    "    X=np.matrix(X)\n",
    "    all_theta=np.matrix(all_theta)\n",
    "    error=X*all_theta.T\n",
    "    h=sigmoid(error)#m x num_labels 的矩阵，列代表每个分类器的预测结果\n",
    "\n",
    "    h_argmax=np.argmax(h,axis=1)#取行中最大的数\n",
    "    h_argmax=h_argmax+1#顶部加一行\n",
    "\n",
    "    return h_argmax#m x 1 矩阵"
   ]
  },
  {
   "cell_type": "code",
   "execution_count": 85,
   "metadata": {},
   "outputs": [
    {
     "output_type": "stream",
     "name": "stdout",
     "text": "accuray=94.46%\n"
    }
   ],
   "source": [
    "#检验准确率\n",
    "y_pred = predict_all(data['X'],all_theta)\n",
    "correct=[1 if a==b else 0 for (a,b) in zip(y_pred,data['y'])]\n",
    "accuray=sum(map(int,correct))/float(len(correct))\n",
    "print('accuray={0}%'.format(accuray*100))"
   ]
  },
  {
   "cell_type": "code",
   "execution_count": null,
   "metadata": {},
   "outputs": [],
   "source": []
  }
 ]
}